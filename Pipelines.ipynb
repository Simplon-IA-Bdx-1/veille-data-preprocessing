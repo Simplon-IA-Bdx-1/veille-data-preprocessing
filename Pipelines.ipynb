{
 "cells": [
  {
   "cell_type": "code",
   "execution_count": 7,
   "metadata": {},
   "outputs": [],
   "source": [
    "from sklearn.pipeline import Pipeline\n",
    "from sklearn.impute import SimpleImputer\n",
    "from sklearn.preprocessing import StandardScaler, OneHotEncoder\n",
    "from sklearn.compose import ColumnTransformer\n",
    "from sklearn.ensemble import RandomForestClassifier as rfc"
   ]
  },
  {
   "cell_type": "markdown",
   "metadata": {},
   "source": [
    "# Pipelines"
   ]
  },
  {
   "cell_type": "code",
   "execution_count": 8,
   "metadata": {},
   "outputs": [],
   "source": [
    "cat_columns=[]\n",
    "num_columns=[]\n",
    "\n",
    "categorical_pipe = Pipeline([\n",
    "    ('imputer', SimpleImputer()),\n",
    "    ('onehot', OneHotEncoder())\n",
    "])\n",
    "\n",
    "numeric_pipe = Pipeline([\n",
    "    ('imputer', SimpleImputer(fill_value=0)),\n",
    "    ('scaler', StandardScaler())\n",
    "])\n",
    "\n",
    "preprocess_pipe = ColumnTransformer([\n",
    "    ('cat', categorical_pipe, cat_columns),\n",
    "    ('num', numeric_pipe, num_columns)])\n"
   ]
  },
  {
   "cell_type": "markdown",
   "metadata": {},
   "source": [
    "Les pipelines forment une arborescence de methodes et de paramêtres."
   ]
  },
  {
   "cell_type": "code",
   "execution_count": 9,
   "metadata": {},
   "outputs": [
    {
     "data": {
      "text/plain": [
       "ColumnTransformer(n_jobs=None, remainder='drop', sparse_threshold=0.3,\n",
       "                  transformer_weights=None,\n",
       "                  transformers=[('cat',\n",
       "                                 Pipeline(memory=None,\n",
       "                                          steps=[('imputer',\n",
       "                                                  SimpleImputer(add_indicator=False,\n",
       "                                                                copy=True,\n",
       "                                                                fill_value=None,\n",
       "                                                                missing_values=nan,\n",
       "                                                                strategy='mean',\n",
       "                                                                verbose=0)),\n",
       "                                                 ('onehot',\n",
       "                                                  OneHotEncoder(categories='auto',\n",
       "                                                                drop=None,\n",
       "                                                                dtype=<class 'numpy.float64'>,\n",
       "                                                                handle_unknown='error',\n",
       "                                                                sparse=True))],\n",
       "                                          verbose=False),\n",
       "                                 []),\n",
       "                                ('num',\n",
       "                                 Pipeline(memory=None,\n",
       "                                          steps=[('imputer',\n",
       "                                                  SimpleImputer(add_indicator=False,\n",
       "                                                                copy=True,\n",
       "                                                                fill_value=0,\n",
       "                                                                missing_values=nan,\n",
       "                                                                strategy='mean',\n",
       "                                                                verbose=0)),\n",
       "                                                 ('scaler',\n",
       "                                                  StandardScaler(copy=True,\n",
       "                                                                 with_mean=True,\n",
       "                                                                 with_std=True))],\n",
       "                                          verbose=False),\n",
       "                                 [])],\n",
       "                  verbose=False)"
      ]
     },
     "execution_count": 9,
     "metadata": {},
     "output_type": "execute_result"
    }
   ],
   "source": [
    "preprocess_pipe"
   ]
  },
  {
   "cell_type": "markdown",
   "metadata": {},
   "source": [
    "Les Pipelines exposent l'ensemble des parametres de chaque 'sous pipeline'. On peut utiliser set_param pour les modifier.\n",
    "Chaque hyperparametre peut etre utiliser dans un gridsearch."
   ]
  },
  {
   "cell_type": "code",
   "execution_count": 10,
   "metadata": {},
   "outputs": [
    {
     "name": "stdout",
     "output_type": "stream",
     "text": [
      "dict_keys(['n_jobs', 'remainder', 'sparse_threshold', 'transformer_weights', 'transformers', 'verbose', 'cat', 'num', 'cat__memory', 'cat__steps', 'cat__verbose', 'cat__imputer', 'cat__onehot', 'cat__imputer__add_indicator', 'cat__imputer__copy', 'cat__imputer__fill_value', 'cat__imputer__missing_values', 'cat__imputer__strategy', 'cat__imputer__verbose', 'cat__onehot__categories', 'cat__onehot__drop', 'cat__onehot__dtype', 'cat__onehot__handle_unknown', 'cat__onehot__sparse', 'num__memory', 'num__steps', 'num__verbose', 'num__imputer', 'num__scaler', 'num__imputer__add_indicator', 'num__imputer__copy', 'num__imputer__fill_value', 'num__imputer__missing_values', 'num__imputer__strategy', 'num__imputer__verbose', 'num__scaler__copy', 'num__scaler__with_mean', 'num__scaler__with_std'])\n"
     ]
    }
   ],
   "source": [
    "print(preprocess_pipe.get_params().keys())"
   ]
  },
  {
   "cell_type": "markdown",
   "metadata": {},
   "source": [
    "On peut changer les paramatres défini par défaut"
   ]
  },
  {
   "cell_type": "code",
   "execution_count": 11,
   "metadata": {},
   "outputs": [
    {
     "name": "stdout",
     "output_type": "stream",
     "text": [
      "0\n"
     ]
    }
   ],
   "source": [
    "print(preprocess_pipe.get_params()['num__imputer__fill_value'])"
   ]
  },
  {
   "cell_type": "code",
   "execution_count": 12,
   "metadata": {},
   "outputs": [
    {
     "name": "stdout",
     "output_type": "stream",
     "text": [
      "1\n"
     ]
    }
   ],
   "source": [
    "preprocess_pipe.set_params(num__imputer__fill_value=1)\n",
    "print(preprocess_pipe.get_params()['num__imputer__fill_value'])"
   ]
  },
  {
   "cell_type": "markdown",
   "metadata": {},
   "source": [
    "pipeline complet avec preprocessing et modele"
   ]
  },
  {
   "cell_type": "code",
   "execution_count": 13,
   "metadata": {},
   "outputs": [],
   "source": [
    "model = rfc()\n",
    "\n",
    "full_pipe = Pipeline(\n",
    "    [('pp', preprocess_pipe),\n",
    "    ('rfc', model)]\n",
    ")"
   ]
  },
  {
   "cell_type": "code",
   "execution_count": 14,
   "metadata": {},
   "outputs": [
    {
     "name": "stdout",
     "output_type": "stream",
     "text": [
      "dict_keys(['memory', 'steps', 'verbose', 'pp', 'rfc', 'pp__n_jobs', 'pp__remainder', 'pp__sparse_threshold', 'pp__transformer_weights', 'pp__transformers', 'pp__verbose', 'pp__cat', 'pp__num', 'pp__cat__memory', 'pp__cat__steps', 'pp__cat__verbose', 'pp__cat__imputer', 'pp__cat__onehot', 'pp__cat__imputer__add_indicator', 'pp__cat__imputer__copy', 'pp__cat__imputer__fill_value', 'pp__cat__imputer__missing_values', 'pp__cat__imputer__strategy', 'pp__cat__imputer__verbose', 'pp__cat__onehot__categories', 'pp__cat__onehot__drop', 'pp__cat__onehot__dtype', 'pp__cat__onehot__handle_unknown', 'pp__cat__onehot__sparse', 'pp__num__memory', 'pp__num__steps', 'pp__num__verbose', 'pp__num__imputer', 'pp__num__scaler', 'pp__num__imputer__add_indicator', 'pp__num__imputer__copy', 'pp__num__imputer__fill_value', 'pp__num__imputer__missing_values', 'pp__num__imputer__strategy', 'pp__num__imputer__verbose', 'pp__num__scaler__copy', 'pp__num__scaler__with_mean', 'pp__num__scaler__with_std', 'rfc__bootstrap', 'rfc__ccp_alpha', 'rfc__class_weight', 'rfc__criterion', 'rfc__max_depth', 'rfc__max_features', 'rfc__max_leaf_nodes', 'rfc__max_samples', 'rfc__min_impurity_decrease', 'rfc__min_impurity_split', 'rfc__min_samples_leaf', 'rfc__min_samples_split', 'rfc__min_weight_fraction_leaf', 'rfc__n_estimators', 'rfc__n_jobs', 'rfc__oob_score', 'rfc__random_state', 'rfc__verbose', 'rfc__warm_start'])\n"
     ]
    }
   ],
   "source": [
    "print(full_pipe.get_params().keys())"
   ]
  },
  {
   "cell_type": "code",
   "execution_count": null,
   "metadata": {},
   "outputs": [],
   "source": []
  }
 ],
 "metadata": {
  "kernelspec": {
   "display_name": "Python 3",
   "language": "python",
   "name": "python3"
  },
  "language_info": {
   "codemirror_mode": {
    "name": "ipython",
    "version": 3
   },
   "file_extension": ".py",
   "mimetype": "text/x-python",
   "name": "python",
   "nbconvert_exporter": "python",
   "pygments_lexer": "ipython3",
   "version": "3.7.5"
  }
 },
 "nbformat": 4,
 "nbformat_minor": 2
}
