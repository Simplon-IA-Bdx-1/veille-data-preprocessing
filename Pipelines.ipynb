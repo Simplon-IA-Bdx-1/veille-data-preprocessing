{
 "cells": [
  {
   "cell_type": "markdown",
   "metadata": {},
   "source": [
    "# Preprocessing avec Scikit Learn"
   ]
  },
  {
   "cell_type": "code",
   "execution_count": 56,
   "metadata": {},
   "outputs": [],
   "source": [
    "from sklearn.pipeline import Pipeline\n",
    "from sklearn.impute import SimpleImputer\n",
    "from sklearn.preprocessing import StandardScaler, OneHotEncoder, MinMaxScaler, Normalizer, QuantileTransformer, FunctionTransformer\n",
    "from sklearn.compose import ColumnTransformer\n",
    "from sklearn.ensemble import RandomForestClassifier as rfc\n",
    "from pprint import pprint\n",
    "import pandas as pd\n",
    "import numpy as np"
   ]
  },
  {
   "cell_type": "markdown",
   "metadata": {},
   "source": [
    "# Les methodes de preprocessing"
   ]
  },
  {
   "cell_type": "markdown",
   "metadata": {},
   "source": [
    "Toutes les méthodes de preprocessing suivent le même processus:   \n",
    "1- On crée une instance de la méthode.   \n",
    "2- On fit cette instance sur un dataset avec .fit()  \n",
    "3- On applique la même transformation sur n'importe quel dataset avec .transform()  "
   ]
  },
  {
   "cell_type": "markdown",
   "metadata": {},
   "source": [
    "## SimpleImputer"
   ]
  },
  {
   "cell_type": "markdown",
   "metadata": {},
   "source": [
    "SimpleImputer sert à compléter les valeurs manquantes.\n",
    "Les paramètres principaux de cette méthode sont:\n",
    "- missing_value: Valeur à remplacer\n",
    "- strategy:\n",
    "    - \"mean\" (default): remplace toutes les missing_values par la moyenne de la colonne. Seulement sur les features numériques.\n",
    "    - \"median\": remplace toutes les missing_values par la médiane de la colonne. Seulement sur les features numériques.\n",
    "    - \"most_frequent\": remplace toutes les missing_values par la valeur la plus présente dans la colonne. Seulement sur les features numériques.\n",
    "    - \"constant\": remplace toutes les missing_values par la valeur du paramètre fill_value\n",
    "- fill_value: valeur qui remplace les missing_values si strategy = \"constant\"\n"
   ]
  },
  {
   "cell_type": "markdown",
   "metadata": {},
   "source": [
    "## OneHotEncoder"
   ]
  },
  {
   "cell_type": "markdown",
   "metadata": {},
   "source": [
    "OneHotEncoder est utilisé pour encoder les variables catégorielles en variables numériques binaires.  \n",
    "Les paramètres principaux de cette méthode sont:\n",
    "- \"categories\": \n",
    "    - \"auto\" détermine automatiquement les différentes catégories en se basant sur celes présentes dans le dataset passé en fit. \n",
    "    - On peut également lui passer une liste de catégories.\n",
    "- \"drop\": drop un des features\n",
    "    - \"first\": drop le premier feature\n",
    "    -  On peut aussi lui préciser quel feature dropper.\n",
    "- \"handle_unknown\": \n",
    "    - \"ignore\": ne peut être utilisé si drop est précisé. Si l'encoder rencontre une valeur inconnue dans le dataset à transformer ,il remplira toutes les colonnes créées avec des zéros.\n",
    "    - \"error\": l'encodeur lèvera une erreur lorsqu'il rencontrera une nouvelle valeur."
   ]
  },
  {
   "cell_type": "code",
   "execution_count": 2,
   "metadata": {},
   "outputs": [],
   "source": [
    "X =[['Cat'], ['Dog'], ['Python']]\n",
    "X1 = [['Dog'], ['Python'], ['Cat'], ['Cat'], ['Python']]"
   ]
  },
  {
   "cell_type": "code",
   "execution_count": 4,
   "metadata": {},
   "outputs": [
    {
     "data": {
      "text/plain": [
       "array([[0., 1., 0.],\n",
       "       [0., 0., 1.],\n",
       "       [1., 0., 0.],\n",
       "       [1., 0., 0.],\n",
       "       [0., 0., 1.]])"
      ]
     },
     "execution_count": 4,
     "metadata": {},
     "output_type": "execute_result"
    }
   ],
   "source": [
    "encoder = OneHotEncoder(handle_unknown=\"ignore\")\n",
    "encoder.fit(X)\n",
    "encoder.transform(X1).toarray()"
   ]
  },
  {
   "cell_type": "code",
   "execution_count": 5,
   "metadata": {},
   "outputs": [
    {
     "data": {
      "text/plain": [
       "array([[1., 0.],\n",
       "       [0., 1.],\n",
       "       [0., 0.],\n",
       "       [0., 0.],\n",
       "       [0., 1.]])"
      ]
     },
     "execution_count": 5,
     "metadata": {},
     "output_type": "execute_result"
    }
   ],
   "source": [
    "encoder_drop = OneHotEncoder(drop=\"first\")\n",
    "encoder_drop.fit(X)\n",
    "encoder_drop.transform(X1).toarray()"
   ]
  },
  {
   "cell_type": "code",
   "execution_count": 6,
   "metadata": {},
   "outputs": [
    {
     "data": {
      "text/plain": [
       "array([[0., 1., 0.],\n",
       "       [0., 0., 1.],\n",
       "       [1., 0., 0.],\n",
       "       [1., 0., 0.],\n",
       "       [0., 0., 1.],\n",
       "       [0., 0., 0.]])"
      ]
     },
     "execution_count": 6,
     "metadata": {},
     "output_type": "execute_result"
    }
   ],
   "source": [
    "X1.append(['Anaconda'])\n",
    "encoder_handle_unknown = OneHotEncoder(handle_unknown=\"ignore\")\n",
    "encoder_handle_unknown.fit(X)\n",
    "encoder_handle_unknown.transform(X1).toarray()"
   ]
  },
  {
   "cell_type": "markdown",
   "metadata": {},
   "source": [
    "## StandardScaler"
   ]
  },
  {
   "cell_type": "markdown",
   "metadata": {},
   "source": [
    "Les différents modules Sklearn de preprocessing sont disponibles à :\n",
    "https://scikit-learn.org/stable/modules/classes.html#module-sklearn.preprocessing"
   ]
  },
  {
   "cell_type": "code",
   "execution_count": 29,
   "metadata": {},
   "outputs": [],
   "source": [
    "data = [[-1, 2], \n",
    "        [-0.5, 6], \n",
    "        [0, 10], \n",
    "        [1, 18]]"
   ]
  },
  {
   "cell_type": "markdown",
   "metadata": {},
   "source": [
    "### MinMaxScaler"
   ]
  },
  {
   "cell_type": "markdown",
   "metadata": {},
   "source": [
    "Permet de transposer les valeur d'un dataframe sur un range choisie."
   ]
  },
  {
   "cell_type": "code",
   "execution_count": 30,
   "metadata": {},
   "outputs": [
    {
     "data": {
      "text/plain": [
       "array([[0.  , 0.  ],\n",
       "       [0.25, 0.25],\n",
       "       [0.5 , 0.5 ],\n",
       "       [1.  , 1.  ]])"
      ]
     },
     "execution_count": 30,
     "metadata": {},
     "output_type": "execute_result"
    }
   ],
   "source": [
    "data1 = data\n",
    "scaler = MinMaxScaler() #feature_range = [2,4])\n",
    "scaler.fit_transform(data)"
   ]
  },
  {
   "cell_type": "markdown",
   "metadata": {},
   "source": [
    "### Normalizer"
   ]
  },
  {
   "cell_type": "markdown",
   "metadata": {},
   "source": [
    "Permet d'appliquer de la normalisation sur un dataframe.<br />\n",
    "Fonctionne avec Dense et spicy.matrix.<br />\n",
    "‘l1’, ‘l2’, ‘max’"
   ]
  },
  {
   "cell_type": "code",
   "execution_count": 31,
   "metadata": {},
   "outputs": [
    {
     "data": {
      "text/plain": [
       "array([[-0.33333333,  0.66666667],\n",
       "       [-0.07692308,  0.92307692],\n",
       "       [ 0.        ,  1.        ],\n",
       "       [ 0.05263158,  0.94736842]])"
      ]
     },
     "execution_count": 31,
     "metadata": {},
     "output_type": "execute_result"
    }
   ],
   "source": [
    "data2 = data\n",
    "normalizer = Normalizer(norm = 'l1')\n",
    "normalizer.fit_transform(data)"
   ]
  },
  {
   "cell_type": "markdown",
   "metadata": {},
   "source": [
    "### Quantile Transformer"
   ]
  },
  {
   "cell_type": "markdown",
   "metadata": {},
   "source": [
    "Permet de générer des quantiles à partir d'un dataframe."
   ]
  },
  {
   "cell_type": "code",
   "execution_count": 54,
   "metadata": {},
   "outputs": [
    {
     "data": {
      "text/plain": [
       "array([[0.        , 0.        ],\n",
       "       [0.33333333, 0.33333333],\n",
       "       [0.6       , 0.6       ],\n",
       "       [1.        , 1.        ]])"
      ]
     },
     "execution_count": 54,
     "metadata": {},
     "output_type": "execute_result"
    }
   ],
   "source": [
    "data3 = data\n",
    "quantiletransformer = QuantileTransformer(n_quantiles=3, random_state=0)\n",
    "quantiletransformer.fit_transform(data3)"
   ]
  },
  {
   "cell_type": "markdown",
   "metadata": {},
   "source": [
    "### Function Transformer"
   ]
  },
  {
   "cell_type": "markdown",
   "metadata": {},
   "source": [
    "Permet d'appliquer n'importe quelle fonction sur un dataframe"
   ]
  },
  {
   "cell_type": "code",
   "execution_count": 97,
   "metadata": {},
   "outputs": [
    {
     "data": {
      "text/plain": [
       "array([[       -inf,  1.09861229],\n",
       "       [-0.69314718,  1.94591015],\n",
       "       [ 0.        ,  2.39789527],\n",
       "       [ 0.69314718,  2.94443898]])"
      ]
     },
     "execution_count": 97,
     "metadata": {},
     "output_type": "execute_result"
    }
   ],
   "source": [
    "data4 = data\n",
    "functiontransformer = FunctionTransformer(np.log1p)\n",
    "functiontransformer.fit_transform(data4)"
   ]
  },
  {
   "cell_type": "markdown",
   "metadata": {},
   "source": [
    "# Pipelines"
   ]
  },
  {
   "cell_type": "markdown",
   "metadata": {},
   "source": [
    "## Pipeline pour les features catégoriques"
   ]
  },
  {
   "cell_type": "markdown",
   "metadata": {},
   "source": [
    "Pipeline prend en parametres une liste de tuples (nom, transform) qui définie une séquence de transformations."
   ]
  },
  {
   "cell_type": "code",
   "execution_count": 7,
   "metadata": {},
   "outputs": [],
   "source": [
    "categorical_pipe = Pipeline([\n",
    "    ('imputer', SimpleImputer(strategy='most_frequent')),\n",
    "    ('onehot', OneHotEncoder())\n",
    "])"
   ]
  },
  {
   "cell_type": "markdown",
   "metadata": {},
   "source": [
    "- Les pipelines forment une arborescence de methodes et de paramêtres.\n",
    "- Les pipelines exposent l'ensemble des paramètres."
   ]
  },
  {
   "cell_type": "code",
   "execution_count": 8,
   "metadata": {},
   "outputs": [
    {
     "data": {
      "text/plain": [
       "Pipeline(memory=None,\n",
       "         steps=[('imputer',\n",
       "                 SimpleImputer(add_indicator=False, copy=True, fill_value=None,\n",
       "                               missing_values=nan, strategy='most_frequent',\n",
       "                               verbose=0)),\n",
       "                ('onehot',\n",
       "                 OneHotEncoder(categories='auto', drop=None,\n",
       "                               dtype=<class 'numpy.float64'>,\n",
       "                               handle_unknown='error', sparse=True))],\n",
       "         verbose=False)"
      ]
     },
     "execution_count": 8,
     "metadata": {},
     "output_type": "execute_result"
    }
   ],
   "source": [
    "categorical_pipe"
   ]
  },
  {
   "cell_type": "markdown",
   "metadata": {},
   "source": [
    "- Les paramètres sont préfixés par le nom donné dans le tuple.\n",
    "- On peut utiliser get_param pour obtenir les paramètres.\n",
    "- On peut utiliser set_param pour les modifier.\n",
    "- Attention, il y'a 2 underscore!\n",
    "- Chaque hyperparamètre pourra être optimisé."
   ]
  },
  {
   "cell_type": "code",
   "execution_count": 9,
   "metadata": {},
   "outputs": [
    {
     "name": "stdout",
     "output_type": "stream",
     "text": [
      "{'imputer': SimpleImputer(add_indicator=False, copy=True, fill_value=None,\n",
      "              missing_values=nan, strategy='most_frequent', verbose=0),\n",
      " 'imputer__add_indicator': False,\n",
      " 'imputer__copy': True,\n",
      " 'imputer__fill_value': None,\n",
      " 'imputer__missing_values': nan,\n",
      " 'imputer__strategy': 'most_frequent',\n",
      " 'imputer__verbose': 0,\n",
      " 'memory': None,\n",
      " 'onehot': OneHotEncoder(categories='auto', drop=None, dtype=<class 'numpy.float64'>,\n",
      "              handle_unknown='error', sparse=True),\n",
      " 'onehot__categories': 'auto',\n",
      " 'onehot__drop': None,\n",
      " 'onehot__dtype': <class 'numpy.float64'>,\n",
      " 'onehot__handle_unknown': 'error',\n",
      " 'onehot__sparse': True,\n",
      " 'steps': [('imputer',\n",
      "            SimpleImputer(add_indicator=False, copy=True, fill_value=None,\n",
      "              missing_values=nan, strategy='most_frequent', verbose=0)),\n",
      "           ('onehot',\n",
      "            OneHotEncoder(categories='auto', drop=None, dtype=<class 'numpy.float64'>,\n",
      "              handle_unknown='error', sparse=True))],\n",
      " 'verbose': False}\n"
     ]
    }
   ],
   "source": [
    "pprint(categorical_pipe.get_params())"
   ]
  },
  {
   "cell_type": "code",
   "execution_count": 10,
   "metadata": {},
   "outputs": [
    {
     "data": {
      "text/plain": [
       "'most_frequent'"
      ]
     },
     "execution_count": 10,
     "metadata": {},
     "output_type": "execute_result"
    }
   ],
   "source": [
    "categorical_pipe.get_params()['imputer__strategy']"
   ]
  },
  {
   "cell_type": "code",
   "execution_count": 12,
   "metadata": {
    "scrolled": false
   },
   "outputs": [
    {
     "data": {
      "text/plain": [
       "Pipeline(memory=None,\n",
       "         steps=[('imputer',\n",
       "                 SimpleImputer(add_indicator=False, copy=True, fill_value='NA',\n",
       "                               missing_values=nan, strategy='constant',\n",
       "                               verbose=0)),\n",
       "                ('onehot',\n",
       "                 OneHotEncoder(categories='auto', drop=None,\n",
       "                               dtype=<class 'numpy.float64'>,\n",
       "                               handle_unknown='error', sparse=True))],\n",
       "         verbose=False)"
      ]
     },
     "execution_count": 12,
     "metadata": {},
     "output_type": "execute_result"
    }
   ],
   "source": [
    "categorical_pipe.set_params(imputer__strategy='constant', imputer__fill_value='NA')"
   ]
  },
  {
   "cell_type": "markdown",
   "metadata": {},
   "source": [
    "## Pipeline pour les features numériques"
   ]
  },
  {
   "cell_type": "code",
   "execution_count": 13,
   "metadata": {},
   "outputs": [],
   "source": [
    "numeric_pipe = Pipeline([\n",
    "    ('imputer', SimpleImputer(strategy='median')),\n",
    "    ('scaler', StandardScaler())\n",
    "])"
   ]
  },
  {
   "cell_type": "markdown",
   "metadata": {},
   "source": [
    "## ColumnTransformer"
   ]
  },
  {
   "cell_type": "markdown",
   "metadata": {},
   "source": [
    "ColumnTransformer permet de combiner des traitements differents pour chaque groupe de colonnes."
   ]
  },
  {
   "cell_type": "code",
   "execution_count": 14,
   "metadata": {},
   "outputs": [],
   "source": [
    "cat_columns=[]\n",
    "num_columns=[]\n",
    "\n",
    "preprocess_pipe = ColumnTransformer([\n",
    "    ('cat', categorical_pipe, cat_columns),\n",
    "    ('num', numeric_pipe, num_columns)])\n"
   ]
  },
  {
   "cell_type": "markdown",
   "metadata": {},
   "source": [
    "## Pipeline complet"
   ]
  },
  {
   "cell_type": "markdown",
   "metadata": {},
   "source": [
    "Pipeline complet avec preprocessing et modèle"
   ]
  },
  {
   "cell_type": "code",
   "execution_count": 15,
   "metadata": {},
   "outputs": [],
   "source": [
    "model = rfc()\n",
    "\n",
    "full_pipe = Pipeline(\n",
    "    [('pp', preprocess_pipe),\n",
    "    ('rfc', model)]\n",
    ")"
   ]
  },
  {
   "cell_type": "markdown",
   "metadata": {},
   "source": [
    "Demo sur un dataset?"
   ]
  },
  {
   "cell_type": "code",
   "execution_count": 16,
   "metadata": {},
   "outputs": [
    {
     "ename": "NameError",
     "evalue": "name 'X_train' is not defined",
     "output_type": "error",
     "traceback": [
      "\u001b[1;31m---------------------------------------------------------------------------\u001b[0m",
      "\u001b[1;31mNameError\u001b[0m                                 Traceback (most recent call last)",
      "\u001b[1;32m<ipython-input-16-420b62aef106>\u001b[0m in \u001b[0;36m<module>\u001b[1;34m\u001b[0m\n\u001b[1;32m----> 1\u001b[1;33m \u001b[0my_train_pred\u001b[0m \u001b[1;33m=\u001b[0m \u001b[0mfull_pipe\u001b[0m\u001b[1;33m.\u001b[0m\u001b[0mfit_transform\u001b[0m\u001b[1;33m(\u001b[0m\u001b[0mX_train\u001b[0m\u001b[1;33m)\u001b[0m\u001b[1;33m\u001b[0m\u001b[1;33m\u001b[0m\u001b[0m\n\u001b[0m\u001b[0;32m      2\u001b[0m \u001b[1;33m\u001b[0m\u001b[0m\n\u001b[0;32m      3\u001b[0m \u001b[0my_valid_pred\u001b[0m \u001b[1;33m=\u001b[0m \u001b[0mfull_pipe\u001b[0m\u001b[1;33m.\u001b[0m\u001b[0mtransform\u001b[0m\u001b[1;33m(\u001b[0m\u001b[0mX_valid\u001b[0m\u001b[1;33m)\u001b[0m\u001b[1;33m\u001b[0m\u001b[1;33m\u001b[0m\u001b[0m\n\u001b[0;32m      4\u001b[0m \u001b[0my_test_pred\u001b[0m \u001b[1;33m=\u001b[0m \u001b[0mfull_pipe\u001b[0m\u001b[1;33m.\u001b[0m\u001b[0mtransform\u001b[0m\u001b[1;33m(\u001b[0m\u001b[0mX_test\u001b[0m\u001b[1;33m)\u001b[0m\u001b[1;33m\u001b[0m\u001b[1;33m\u001b[0m\u001b[0m\n",
      "\u001b[1;31mNameError\u001b[0m: name 'X_train' is not defined"
     ]
    }
   ],
   "source": [
    "y_train_pred = full_pipe.fit_transform(X_train)\n",
    "\n",
    "y_valid_pred = full_pipe.transform(X_valid)\n",
    "y_test_pred = full_pipe.transform(X_test)"
   ]
  },
  {
   "cell_type": "code",
   "execution_count": null,
   "metadata": {},
   "outputs": [],
   "source": []
  }
 ],
 "metadata": {
  "kernelspec": {
   "display_name": "Python 3",
   "language": "python",
   "name": "python3"
  },
  "language_info": {
   "codemirror_mode": {
    "name": "ipython",
    "version": 3
   },
   "file_extension": ".py",
   "mimetype": "text/x-python",
   "name": "python",
   "nbconvert_exporter": "python",
   "pygments_lexer": "ipython3",
   "version": "3.7.5"
  },
  "toc": {
   "base_numbering": 1,
   "nav_menu": {},
   "number_sections": true,
   "sideBar": true,
   "skip_h1_title": false,
   "title_cell": "Table of Contents",
   "title_sidebar": "Contents",
   "toc_cell": false,
   "toc_position": {},
   "toc_section_display": true,
   "toc_window_display": false
  }
 },
 "nbformat": 4,
 "nbformat_minor": 2
}
