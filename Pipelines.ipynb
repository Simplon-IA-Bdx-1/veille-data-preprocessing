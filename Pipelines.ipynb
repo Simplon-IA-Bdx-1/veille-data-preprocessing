{
 "cells": [
  {
   "cell_type": "markdown",
   "metadata": {},
   "source": [
    "# Preprocessing avec Scikit Learn"
   ]
  },
  {
   "cell_type": "code",
   "execution_count": null,
   "metadata": {},
   "outputs": [],
   "source": [
    "from sklearn.pipeline import Pipeline\n",
    "from sklearn.impute import SimpleImputer\n",
    "from sklearn.preprocessing import StandardScaler, OneHotEncoder\n",
    "from sklearn.compose import ColumnTransformer\n",
    "from sklearn.ensemble import RandomForestClassifier as rfc\n",
    "from pprint import pprint\n",
    "import pandas as pd"
   ]
  },
  {
   "cell_type": "markdown",
   "metadata": {},
   "source": [
    "# Les methodes de preprocessing"
   ]
  },
  {
   "cell_type": "markdown",
   "metadata": {},
   "source": [
    "Toutes les méthodes de preprocessing suivent le même processus:   \n",
    "1- On crée une instance de la méthode.   \n",
    "2- On fit cette instance sur un dataset avec .fit()  \n",
    "3- On applique la même transformation sur n'importe quel dataset avec .transform()  "
   ]
  },
  {
   "cell_type": "markdown",
   "metadata": {},
   "source": [
    "## SimpleImputer"
   ]
  },
  {
   "cell_type": "markdown",
   "metadata": {},
   "source": [
    "SimpleImputer sert à compléter les valeurs manquantes.\n",
    "Les paramètres principaux de cette méthode sont:\n",
    "- missing_value: Valeur à remplacer\n",
    "- strategy:\n",
    "    - \"mean\" (default): remplace toutes les missing_values par la moyenne de la colonne. Seulement sur les features numériques.\n",
    "    - \"median\": remplace toutes les missing_values par la médiane de la colonne. Seulement sur les features numériques.\n",
    "    - \"most_frequent\": remplace toutes les missing_values par la valeur la plus présente dans la colonne. Seulement sur les features numériques.\n",
    "    - \"constant\": remplace toutes les missing_values par la valeur du paramètre fill_value\n",
    "- fill_value: valeur qui remplace les missing_values si strategy = \"constant\"\n"
   ]
  },
  {
   "cell_type": "markdown",
   "metadata": {},
   "source": [
    "## OneHotEncoder"
   ]
  },
  {
   "cell_type": "markdown",
   "metadata": {},
   "source": [
    "OneHotEncoder est utilisé pour encoder les variables catégorielles en variables numériques binaires.  \n",
    "Les paramètres principaux de cette méthode sont:\n",
    "- \"categories\": \n",
    "    - \"auto\" détermine automatiquement les différentes catégories en se basant sur celes présentes dans le dataset passé en fit. \n",
    "    - On peut également lui passer une liste de catégories.\n",
    "- \"drop\": drop un des features\n",
    "    - \"first\": drop le premier feature\n",
    "    -  On peut aussi lui préciser quel feature dropper.\n",
    "- \"handle_unknown\": \n",
    "    - \"ignore\": ne peut être utilisé si drop est précisé. Si l'encoder rencontre une valeur inconnue dans le dataset à transformer ,il remplira toutes les colonnes créées avec des zéros.\n",
    "    - \"error\": l'encodeur lèvera une erreur lorsqu'il rencontrera une nouvelle valeur."
   ]
  },
  {
   "cell_type": "code",
   "execution_count": null,
   "metadata": {},
   "outputs": [],
   "source": [
    "X =[['Cat'], ['Dog'], ['Python']]\n",
    "X1 = [['Dog'], ['Python'], ['Cat'], ['Cat'], ['Python']]"
   ]
  },
  {
   "cell_type": "code",
   "execution_count": null,
   "metadata": {},
   "outputs": [],
   "source": [
    "encode = OneHotEncoder(handle_unknown=\"ignore\")\n",
    "encoder.fit(X)\n",
    "encoder.transform(X1).toarray()"
   ]
  },
  {
   "cell_type": "code",
   "execution_count": null,
   "metadata": {},
   "outputs": [],
   "source": [
    "encoder_drop = OneHotEncoder(drop=\"first\")\n",
    "encoder_drop.fit(X)\n",
    "encoder_drop.transform(X1).toarray()"
   ]
  },
  {
   "cell_type": "code",
   "execution_count": null,
   "metadata": {},
   "outputs": [],
   "source": [
    "X1.append(['Anaconda'])\n",
    "encoder_handle_unknown = OneHotEncoder(handle_unknown=\"ignore\")\n",
    "encoder_handle_unknown.fit(X)\n",
    "encoder_handle_unknown.transform(X1).toarray()"
   ]
  },
  {
   "cell_type": "markdown",
   "metadata": {},
   "source": [
    "## StandardScaler"
   ]
  },
  {
   "cell_type": "markdown",
   "metadata": {},
   "source": [
    "## Autres?"
   ]
  },
  {
   "cell_type": "markdown",
   "metadata": {},
   "source": [
    "# Pipelines"
   ]
  },
  {
   "cell_type": "markdown",
   "metadata": {},
   "source": [
    "## Pipeline pour les features catégoriques"
   ]
  },
  {
   "cell_type": "markdown",
   "metadata": {},
   "source": [
    "Pipeline prend en parametres une liste de tuples (nom, transform) qui définie une séquence de transformations."
   ]
  },
  {
   "cell_type": "code",
   "execution_count": null,
   "metadata": {},
   "outputs": [],
   "source": [
    "categorical_pipe = Pipeline([\n",
    "    ('imputer', SimpleImputer(strategy='most_frequent')),\n",
    "    ('onehot', OneHotEncoder())\n",
    "])"
   ]
  },
  {
   "cell_type": "markdown",
   "metadata": {},
   "source": [
    "- Les pipelines forment une arborescence de methodes et de paramêtres.\n",
    "- Les pipelines exposent l'ensemble des paramètres."
   ]
  },
  {
   "cell_type": "code",
   "execution_count": null,
   "metadata": {},
   "outputs": [],
   "source": [
    "categorical_pipe"
   ]
  },
  {
   "cell_type": "markdown",
   "metadata": {},
   "source": [
    "- Les paramètres sont préfixés par le nom donné dans le tuple.\n",
    "- On peut utiliser get_param pour obtenir les paramètres.\n",
    "- On peut utiliser set_param pour les modifier.\n",
    "- Attention, il y'a 2 underscore!\n",
    "- Chaque hyperparamètre pourra être optimisé."
   ]
  },
  {
   "cell_type": "code",
   "execution_count": null,
   "metadata": {},
   "outputs": [],
   "source": [
    "pprint(categorical_pipe.get_params())"
   ]
  },
  {
   "cell_type": "code",
   "execution_count": null,
   "metadata": {},
   "outputs": [],
   "source": [
    "categorical_pipe.get_params()['imputer__strategy']"
   ]
  },
  {
   "cell_type": "code",
   "execution_count": null,
   "metadata": {
    "scrolled": false
   },
   "outputs": [],
   "source": [
    "categorical_pipe.set_params(imputer__strategy='constant', imputer__fill_value='NA')"
   ]
  },
  {
   "cell_type": "markdown",
   "metadata": {},
   "source": [
    "## Pipeline pour les features numériques"
   ]
  },
  {
   "cell_type": "code",
   "execution_count": null,
   "metadata": {},
   "outputs": [],
   "source": [
    "numeric_pipe = Pipeline([\n",
    "    ('imputer', SimpleImputer(strategy='median')),\n",
    "    ('scaler', StandardScaler())\n",
    "])"
   ]
  },
  {
   "cell_type": "markdown",
   "metadata": {},
   "source": [
    "## ColumnTransformer"
   ]
  },
  {
   "cell_type": "markdown",
   "metadata": {},
   "source": [
    "ColumnTransformer permet de combiner des traitements differents pour chaque groupe de colonnes."
   ]
  },
  {
   "cell_type": "code",
   "execution_count": null,
   "metadata": {},
   "outputs": [],
   "source": [
    "cat_columns=[]\n",
    "num_columns=[]\n",
    "\n",
    "preprocess_pipe = ColumnTransformer([\n",
    "    ('cat', categorical_pipe, cat_columns),\n",
    "    ('num', numeric_pipe, num_columns)])\n"
   ]
  },
  {
   "cell_type": "markdown",
   "metadata": {},
   "source": [
    "## Pipeline complet"
   ]
  },
  {
   "cell_type": "markdown",
   "metadata": {},
   "source": [
    "Pipeline complet avec preprocessing et modèle"
   ]
  },
  {
   "cell_type": "code",
   "execution_count": null,
   "metadata": {},
   "outputs": [],
   "source": [
    "model = rfc()\n",
    "\n",
    "full_pipe = Pipeline(\n",
    "    [('pp', preprocess_pipe),\n",
    "    ('rfc', model)]\n",
    ")"
   ]
  },
  {
   "cell_type": "markdown",
   "metadata": {},
   "source": [
    "Demo sur un dataset?"
   ]
  },
  {
   "cell_type": "code",
   "execution_count": null,
   "metadata": {},
   "outputs": [],
   "source": [
    "y_train_pred = full_pipe.fit_transform(X_train)\n",
    "\n",
    "y_valid_pred = full_pipe.transform(X_valid)\n",
    "y_test_pred = full_pipe.transform(X_test)"
   ]
  },
  {
   "cell_type": "code",
   "execution_count": null,
   "metadata": {},
   "outputs": [],
   "source": []
  }
 ],
 "metadata": {
  "kernelspec": {
   "display_name": "Python 3",
   "language": "python",
   "name": "python3"
  },
  "language_info": {
   "codemirror_mode": {
    "name": "ipython",
    "version": 3
   },
   "file_extension": ".py",
   "mimetype": "text/x-python",
   "name": "python",
   "nbconvert_exporter": "python",
   "pygments_lexer": "ipython3",
   "version": "3.7.4"
  },
  "toc": {
   "base_numbering": 1,
   "nav_menu": {},
   "number_sections": true,
   "sideBar": true,
   "skip_h1_title": false,
   "title_cell": "Table of Contents",
   "title_sidebar": "Contents",
   "toc_cell": false,
   "toc_position": {},
   "toc_section_display": true,
   "toc_window_display": false
  }
 },
 "nbformat": 4,
 "nbformat_minor": 2
}
